{
 "cells": [
  {
   "cell_type": "code",
   "execution_count": null,
   "id": "fa1d5ad4",
   "metadata": {},
   "outputs": [],
   "source": [
    "#Enter Your Name\n",
    "print('What Is Your Name ')\n",
    "name = input()\n",
    "print(\"---------------------------\")\n",
    "#Enter Your Age\n",
    "#Say User Age\n",
    "print(\"you are \"+ age +\" years old\")\n",
    "print(\"---------------------------\")\n",
    "#Ask For Your Date Of Birth\n",
    "print('What is your Dob you ')\n",
    "Dob = input()\n",
    "print(\"---------------------------\")\n",
    "#Ask If You Go To The Dentist\n",
    "print('Do you go to the dentist ')\n",
    "dentist = input()\n",
    "\n",
    "print('What is Your Age ')\n",
    "age = input()\n",
    "print(\"---------------------------\")\n",
    "#Say Hello Users Name\n",
    "print(\"hello \" + name)"
   ]
  }
 ],
 "metadata": {
  "kernelspec": {
   "display_name": "Python 3",
   "language": "python",
   "name": "python3"
  },
  "language_info": {
   "codemirror_mode": {
    "name": "ipython",
    "version": 3
   },
   "file_extension": ".py",
   "mimetype": "text/x-python",
   "name": "python",
   "nbconvert_exporter": "python",
   "pygments_lexer": "ipython3",
   "version": "3.8.8"
  }
 },
 "nbformat": 4,
 "nbformat_minor": 5
}
