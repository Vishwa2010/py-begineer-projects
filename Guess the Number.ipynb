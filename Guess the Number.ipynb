{
 "cells": [
  {
   "cell_type": "code",
   "execution_count": null,
   "id": "a280fb21",
   "metadata": {},
   "outputs": [],
   "source": [
    "#Import Random\n",
    "import random\n",
    "\n",
    "#Set Value For B\n",
    "b = True\n",
    "\n",
    "#Do A While Loop To Pick A Number Bewtween One And Ten And If Bigger Than Ten There Will Be An Error\n",
    "while(b == True):\n",
    "    print(\"Enter A Number Bewtween one and ten\")\n",
    "    num = int(input())\n",
    "    if (num > 10):\n",
    "        print(\"SORRY NO NUMBER GREATER THAN TEN\")\n",
    "    else:\n",
    "        b = False\n",
    "#Tell The Computer To Pick A Number Bewtween One And Ten\n",
    "a = random.randint(1,10)\n",
    "print(a)\n",
    "\n",
    "#Write An If Statement To Print if You Picked The Right Number Or The Wrong Number\n",
    "if num == a:\n",
    "    print(\"YOU WIN \")\n",
    "else:\n",
    "    print(\"SORRY YOU LOST TRY AGAIN LATER \")"
   ]
  }
 ],
 "metadata": {
  "kernelspec": {
   "display_name": "Python 3",
   "language": "python",
   "name": "python3"
  },
  "language_info": {
   "codemirror_mode": {
    "name": "ipython",
    "version": 3
   },
   "file_extension": ".py",
   "mimetype": "text/x-python",
   "name": "python",
   "nbconvert_exporter": "python",
   "pygments_lexer": "ipython3",
   "version": "3.8.8"
  }
 },
 "nbformat": 4,
 "nbformat_minor": 5
}
