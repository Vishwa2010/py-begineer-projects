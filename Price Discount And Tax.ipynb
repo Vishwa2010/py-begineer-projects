{
 "cells": [
  {
   "cell_type": "code",
   "execution_count": null,
   "id": "fd7a19d5",
   "metadata": {},
   "outputs": [],
   "source": [
    "#Ask The User What He Wants To Buy\n",
    "print(\"Enter What You Want To Buy\")\n",
    "item = str(input())\n",
    "\n",
    "#Ask The User For The PRice\n",
    "print(\"Enter Your Price\")\n",
    "price = int(input())\n",
    "\n",
    "#Ask The User For The Discount\n",
    "print(\"Enter Your Discount\")\n",
    "Discountpercent = int(input())\n",
    "#Set The Tax Amount\n",
    "taxpercent = 8.25\n",
    "\n",
    "#Make A Function To Get The Total Price With Tax And Discount\n",
    "def itempricetax(price,Discountpercent,taxpercent):\n",
    "    discount = (price/100)  * Discountpercent\n",
    "    saleprice = price - discount\n",
    "    tax = (saleprice/100) * taxpercent\n",
    "    finalprice = saleprice + tax\n",
    "    return finalprice\n",
    "\n",
    "#Print Everything Out\n",
    "finalprice = itempricetax(price,Discountpercent,taxpercent)\n",
    "savings = price - finalprice\n",
    "print(\"The Amount Of Money You Saved Was\",savings)\n",
    "print(\"The actual Price Was\",price)\n",
    "print(\"The Discount Was\",Discountpercent)\n",
    "print(\"The Tax Was\",taxpercent)\n",
    "print(\"The Final Price Was\",finalprice)"
   ]
  }
 ],
 "metadata": {
  "kernelspec": {
   "display_name": "Python 3",
   "language": "python",
   "name": "python3"
  },
  "language_info": {
   "codemirror_mode": {
    "name": "ipython",
    "version": 3
   },
   "file_extension": ".py",
   "mimetype": "text/x-python",
   "name": "python",
   "nbconvert_exporter": "python",
   "pygments_lexer": "ipython3",
   "version": "3.8.8"
  }
 },
 "nbformat": 4,
 "nbformat_minor": 5
}
