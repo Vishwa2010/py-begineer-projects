{
 "cells": [
  {
   "cell_type": "code",
   "execution_count": null,
   "id": "98d287ef",
   "metadata": {},
   "outputs": [],
   "source": [
    "#Telling The User To Enter A Number With Decimals\n",
    "print(\"Enter A Number With Decimals\")\n",
    "num = float(input())\n",
    "\n",
    "#Ask If He Wants Farenhiet or Celcius\n",
    "FARENCEL  =  input(\"FARENHIET OR CElCIUS \")\n",
    "\n",
    "#Check Condition - FARENHIET\n",
    "if FARENCEL == \"FARENHIET\":\n",
    "    result = 9/5 * num+32\n",
    "    print(result)\n",
    "#Check Condition - CELCIUS   \n",
    "if FARENCEL == \"CELCIUS\":\n",
    "    result = 5/9*num-32\n",
    "    print(result)"
   ]
  }
 ],
 "metadata": {
  "kernelspec": {
   "display_name": "Python 3",
   "language": "python",
   "name": "python3"
  },
  "language_info": {
   "codemirror_mode": {
    "name": "ipython",
    "version": 3
   },
   "file_extension": ".py",
   "mimetype": "text/x-python",
   "name": "python",
   "nbconvert_exporter": "python",
   "pygments_lexer": "ipython3",
   "version": "3.8.8"
  }
 },
 "nbformat": 4,
 "nbformat_minor": 5
}
